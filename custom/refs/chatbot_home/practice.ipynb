{
 "cells": [
  {
   "cell_type": "markdown",
   "metadata": {},
   "source": [
    "# Practice \n",
    "\n",
    "In this practice, you will learn to write python code to reply to your chatbot conversations on Telegram.\n",
    "\n",
    "Use the green \"Send to Rebot\" button to see your changes on Rebot via Telegram.\n",
    "\n",
    "Pay attention to the instructor.\n",
    "\n",
    "Have fun! :)"
   ]
  },
  {
   "cell_type": "code",
   "execution_count": null,
   "metadata": {},
   "outputs": [],
   "source": [
    "import rebot\n",
    "\n",
    "def send_to_rebot(ticker): \n",
    "    \n",
    "    message = rebot.createEmptyMessage()\n",
    "    message.addText(\"Hello from my first chatbot code!\")\n",
    "    \n",
    "    return message"
   ]
  },
  {
   "cell_type": "markdown",
   "metadata": {},
   "source": [
    "## Try it Out!\n",
    "\n",
    "Test your changes by pressing the green \"Try Your Code\" button above!"
   ]
  },
  {
   "cell_type": "code",
   "execution_count": null,
   "metadata": {},
   "outputs": [],
   "source": [
    "print(send_to_rebot(\"Hello\")) #j_ignore_"
   ]
  }
 ],
 "metadata": {
  "kernelspec": {
   "display_name": "Python 3",
   "language": "python",
   "name": "python3"
  },
  "language_info": {
   "codemirror_mode": {
    "name": "ipython",
    "version": 3
   },
   "file_extension": ".py",
   "mimetype": "text/x-python",
   "name": "python",
   "nbconvert_exporter": "python",
   "pygments_lexer": "ipython3",
   "version": "3.5.2"
  }
 },
 "nbformat": 4,
 "nbformat_minor": 2
}
