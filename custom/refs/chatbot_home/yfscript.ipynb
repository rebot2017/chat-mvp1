{
 "cells": [
  {
   "cell_type": "markdown",
   "metadata": {
    "Editable": false,
    "slideshow": {
     "slide_type": "-"
    }
   },
   "source": [
    "# Webscraping Yahoo Finance\n",
    "### Introduction\n",
    "In this notebook, we shall learn how to scrape websites for information using Python. \n",
    "\n",
    "\n",
    "The following are general steps to scrape websites:\n",
    "1. Get the webpage using the ticker given.\n",
    "2. Parse the raw website into a readable form.\n",
    "3. Extract information we need from website.\n",
    "4. Organise the information and return in desired format.\n",
    "\n",
    "\n",
    "\n",
    "\n",
    "For this challenge, we will be scraping Yahoo Finance stock page. \n",
    "\n",
    "Take a look at how a stock page looks like: __[Google - GOOG](https://finance.yahoo.com/quote/GOOG?p=GOOG)__ : https://finance.yahoo.com/quote/GOOG?p=GOOG"
   ]
  },
  {
   "cell_type": "code",
   "execution_count": 1,
   "metadata": {},
   "outputs": [],
   "source": [
    "# Some of the libraries we need\n",
    "from bs4 import BeautifulSoup\n",
    "import sys\n",
    "if \"/home\" not in sys.path:\n",
    "    sys.path.append('/home')\n",
    "import rebot\n"
   ]
  },
  {
   "cell_type": "code",
   "execution_count": 2,
   "metadata": {},
   "outputs": [],
   "source": [
    "def get_stock_information(ticker):\n",
    "    \n",
    "    #Step 1: Get the webpage with the ticker\n",
    "    rawContent = rebot.getContent(ticker)\n",
    "    \n",
    "    \n",
    "    #Step 2: Parse the raw website into a readable form\n",
    "    readable = rebot.getHtml(rawContent)\n",
    "    \n",
    "#     print(readable)\n",
    "    #Step 3: Extract information we need from the website\n",
    "    stockName = readable.find(\"h1\").getText()\n",
    "    print(stockName)\n",
    "    \n",
    "    ####################CHALLENGE 1#########################\n",
    "    \n",
    "\n",
    "    ########################################################\n",
    "    \n",
    "    \n",
    "    \n",
    "    \n",
    "    ####################################################################################\n",
    "    ######## Remember to add the information you want to return below ##########\n",
    "    \n",
    "    #Step 4: Organise the information and return it in a desired format.\n",
    "    return [\n",
    "        {\"Stock Name\": stockName}\n",
    "    ]"
   ]
  },
  {
   "cell_type": "markdown",
   "metadata": {},
   "source": [
    "## Testing Ground\n",
    "\n",
    "You can test what the function you have built returns below!\n",
    "\n"
   ]
  },
  {
   "cell_type": "code",
   "execution_count": 3,
   "metadata": {},
   "outputs": [
    {
     "name": "stdout",
     "output_type": "stream",
     "text": [
      "AAPL - Apple Inc.\n",
      "[{'Stock Name': 'AAPL - Apple Inc.'}]\n"
     ]
    }
   ],
   "source": [
    "\n",
    "print(get_stock_information(\"AAPL\")) #j_ignore_\n"
   ]
  },
  {
   "cell_type": "code",
   "execution_count": null,
   "metadata": {},
   "outputs": [],
   "source": []
  }
 ],
 "metadata": {
  "kernelspec": {
   "display_name": "Python 3",
   "language": "python",
   "name": "python3"
  },
  "language_info": {
   "codemirror_mode": {
    "name": "ipython",
    "version": 3
   },
   "file_extension": ".py",
   "mimetype": "text/x-python",
   "name": "python",
   "nbconvert_exporter": "python",
   "pygments_lexer": "ipython3",
   "version": "3.5.2"
  }
 },
 "nbformat": 4,
 "nbformat_minor": 2
}
