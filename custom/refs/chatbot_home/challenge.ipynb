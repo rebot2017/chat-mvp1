{
 "cells": [
  {
   "cell_type": "markdown",
   "metadata": {
    "Editable": false,
    "slideshow": {
     "slide_type": "-"
    }
   },
   "source": [
    "# Rebot Challenge: Webscraping Real-time Data from Yahoo Finance\n",
    "\n",
    "\n",
    "For this challenge, your team will be web-scraping dyanmically from Yahoo Finance stock page. \n",
    "\n",
    "Take a look at the stock page for Google Inc:\n",
    "__[Google - GOOG](https://finance.yahoo.com/quote/GOOG?p=GOOG)__ : https://finance.yahoo.com/quote/GOOG?p=GOOG\n",
    "\n",
    "Hints: Remember the general steps for scraping HTML:\n",
    "1. Get the Yahoo Finance webpage content of the ticker provided.\n",
    "2. Format the content into proper HTML that is searchable.\n",
    "3. Search for the piece information that your team wants.\n",
    "4. Organise the information into the message.\n",
    "\n",
    "And of course, send the code to Rebot to see your changes on Telegram.\n",
    "\n",
    "Good luck! :)"
   ]
  },
  {
   "cell_type": "code",
   "execution_count": 2,
   "metadata": {},
   "outputs": [],
   "source": [
    "import rebot\n",
    "\n",
    "def send_to_rebot(ticker): \n",
    "    \n",
    "    content = rebot.getContent(ticker)\n",
    "    html = rebot.getHtml(content)\n",
    "    \n",
    "    stockName       = html.search(\"h1\")\n",
    "    beta            = html.search(\"td\", \"data-test\", \"BETA-value\")\n",
    "    \n",
    "    message = rebot.createEmptyMessage()\n",
    "    message.addText(\"Here are the results from Yahoo Finance!\")\n",
    "    message.addData(\"Stock Name\", stockName)\n",
    "    message.addData(\"Beta\", beta)\n",
    "    \n",
    "    return message\n"
   ]
  },
  {
   "cell_type": "markdown",
   "metadata": {},
   "source": [
    "## Try it Out!\n",
    "\n",
    "Test your changes by pressing the green \"Run All\" button above!"
   ]
  },
  {
   "cell_type": "code",
   "execution_count": null,
   "metadata": {},
   "outputs": [],
   "source": [
    "\n",
    "print(send_to_rebot(\"AAPL\")) #j_ignore_\n"
   ]
  },
  {
   "cell_type": "code",
   "execution_count": null,
   "metadata": {},
   "outputs": [],
   "source": []
  },
  {
   "cell_type": "code",
   "execution_count": null,
   "metadata": {},
   "outputs": [],
   "source": []
  },
  {
   "cell_type": "code",
   "execution_count": null,
   "metadata": {},
   "outputs": [],
   "source": []
  },
  {
   "cell_type": "code",
   "execution_count": null,
   "metadata": {},
   "outputs": [],
   "source": []
  }
 ],
 "metadata": {
  "kernelspec": {
   "display_name": "Python 3",
   "language": "python",
   "name": "python3"
  },
  "language_info": {
   "codemirror_mode": {
    "name": "ipython",
    "version": 3
   },
   "file_extension": ".py",
   "mimetype": "text/x-python",
   "name": "python",
   "nbconvert_exporter": "python",
   "pygments_lexer": "ipython3",
   "version": "3.5.2"
  }
 },
 "nbformat": 4,
 "nbformat_minor": 2
}
