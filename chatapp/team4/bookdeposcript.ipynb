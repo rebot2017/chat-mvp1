{
 "cells": [
  {
   "cell_type": "code",
   "execution_count": 6,
   "metadata": {},
   "outputs": [],
   "source": [
    "import requests\n",
    "import json\n",
    "from bs4 import BeautifulSoup"
   ]
  },
  {
   "cell_type": "code",
   "execution_count": 9,
   "metadata": {},
   "outputs": [
    {
     "name": "stdout",
     "output_type": "stream",
     "text": [
      "S$31.24\n",
      "S$19.11\n",
      "S$18.98\n",
      "S$18.35\n",
      "S$5.70\n"
     ]
    },
    {
     "data": {
      "text/plain": [
       "[{'description': '\\n Author: George Carlin\\nPublished: 17 May 2011\\nFormat: Paperback\\nPrice: S$31.24',\n",
       "  'img': 'https://d1w7fb2mkkr3kw.cloudfront.net/assets/images/book/mid/9781/4013/9781401310554.jpg',\n",
       "  'title': '3x Carlin'},\n",
       " {'description': '\\n Author: George Carlin\\nPublished: 16 Dec 2010\\nFormat: Paperback\\nPrice: S$19.11',\n",
       "  'img': 'https://d1w7fb2mkkr3kw.cloudfront.net/assets/images/book/mid/9781/4391/9781439191101.jpg',\n",
       "  'title': 'Last Words'},\n",
       " {'description': '\\n Author: George Carlin\\nPublished: 01 May 1998\\nFormat: Paperback\\nPrice: S$18.98',\n",
       "  'img': 'https://d1w7fb2mkkr3kw.cloudfront.net/assets/images/book/mid/9780/7868/9780786883219.jpg',\n",
       "  'title': 'Brain Droppings'},\n",
       " {'description': '\\n Author: George Carlin\\nPublished: 13 Sep 2011\\nFormat: Paperback\\nPrice: S$18.35',\n",
       "  'img': 'https://d1w7fb2mkkr3kw.cloudfront.net/assets/images/book/mid/9781/4013/9781401308216.jpg',\n",
       "  'title': 'When Will Jesus Bring The Pork Chops?'},\n",
       " {'description': '\\n Author: Jaymes Reed\\nPublished: 19 Jul 2011\\nFormat: Paperback\\nPrice: S$5.70',\n",
       "  'img': 'https://d1w7fb2mkkr3kw.cloudfront.net/assets/images/book/mid/9781/4507/9781450762465.jpg',\n",
       "  'title': 'Comics: George Carlin'}]"
      ]
     },
     "execution_count": 9,
     "metadata": {},
     "output_type": "execute_result"
    }
   ],
   "source": [
    "def bookdepo_search(query):\n",
    "    \n",
    "    headers = {\n",
    "        \"User-Agent\": \"Mozilla/5.0 (Macintosh; Intel Mac OS X 10_10_1) AppleWebKit/537.36 (KHTML, like Gecko) Chrome/39.0.2171.95 Safari/537.36\"\n",
    "    }\n",
    "    bookdepo_url = \"https://www.bookdepository.com/search?search=Find+book&searchTerm=\" + query.replace(\" \", \"+\")\n",
    "    search_result = requests.get(bookdepo_url, headers = headers)\n",
    "    soup = BeautifulSoup(search_result.text, 'html.parser')\n",
    "    result_divs = soup.find_all(\"div\", class_= \"book-item\")\n",
    "\n",
    "    result_obj = []\n",
    "    RESULT_LIMIT = 5\n",
    "    if len(result_divs) < RESULT_LIMIT:\n",
    "        RESULT_LIMIT = len(result_divs)\n",
    "    for i in range(0, RESULT_LIMIT):\n",
    "        imglink = result_divs[i].find('img').get('data-lazy')\n",
    "        book_title = result_divs[i].find(\"h3\", class_=\"title\").getText().strip()\n",
    "        book_author = result_divs[i].find(\"p\", class_=\"author\").getText().strip()\n",
    "        book_published_date = result_divs[i].find(\"p\", class_=\"published\").getText().strip()\n",
    "        book_format = result_divs[i].find(\"p\", class_=\"format\").getText().strip()\n",
    "       \n",
    "        price = result_divs[i].find(\"p\", class_=\"price\").next_element.strip()\n",
    "\n",
    "        desc = \"\\n Author: \" + book_author + \"\\nPublished: \" + book_published_date + \"\\nFormat: \" + book_format + \"\\nPrice: \"+ price\n",
    "        result_obj.append({'title': book_title, 'img': imglink,  'description': desc })\n",
    "    return result_obj"
   ]
  },
  {
   "cell_type": "code",
   "execution_count": null,
   "metadata": {},
   "outputs": [],
   "source": []
  }
 ],
 "metadata": {
  "kernelspec": {
   "display_name": "Python 3",
   "language": "python",
   "name": "python3"
  },
  "language_info": {
   "codemirror_mode": {
    "name": "ipython",
    "version": 3
   },
   "file_extension": ".py",
   "mimetype": "text/x-python",
   "name": "python",
   "nbconvert_exporter": "python",
   "pygments_lexer": "ipython3",
   "version": "3.5.2"
  }
 },
 "nbformat": 4,
 "nbformat_minor": 2
}
