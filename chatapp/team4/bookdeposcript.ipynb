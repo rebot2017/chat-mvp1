{
 "cells": [
  {
   "cell_type": "code",
   "execution_count": null,
   "metadata": {},
   "outputs": [],
   "source": [
    "import requests\n",
    "import json\n",
    "from bs4 import BeautifulSoup\n",
    "import argparse"
   ]
  },
  {
   "cell_type": "code",
   "execution_count": null,
   "metadata": {},
   "outputs": [],
   "source": [
    "def bookdepo_search(query):\n",
    "    \n",
    "    headers = {\n",
    "        \"User-Agent\": \"Mozilla/5.0 (Macintosh; Intel Mac OS X 10_10_1) AppleWebKit/537.36 (KHTML, like Gecko) Chrome/39.0.2171.95 Safari/537.36\"\n",
    "    }\n",
    "    bookdepo_url = \"https://www.bookdepository.com/search?search=Find+book&searchTerm=\" + query.replace(\" \", \"+\")\n",
    "    search_result = requests.get(bookdepo_url, headers = headers)\n",
    "    soup = BeautifulSoup(search_result.text, 'html.parser')\n",
    "    result_divs = soup.find_all(\"div\", class_= \"book-item\")\n",
    "\n",
    "    result_obj = []\n",
    "    RESULT_LIMIT = 5\n",
    "    if len(result_divs) < RESULT_LIMIT:\n",
    "        RESULT_LIMIT = len(result_divs)\n",
    "    for i in range(0, RESULT_LIMIT):\n",
    "        imglink = result_divs[i].find('img').get('data-lazy')\n",
    "        book_title = result_divs[i].find(\"h3\", class_=\"title\").a.text.strip()\n",
    "        book_author = result_divs[i].find(\"p\", class_=\"author\").a.text.strip()\n",
    "        book_published_date = result_divs[i].find(\"p\", class_=\"published\").text\n",
    "        book_format = result_divs[i].find(\"p\", class_=\"format\").text\n",
    "        \n",
    "\n",
    "        desc = book_title +\"\\n Author: \" + book_author + \"\\nPublished: \" + book_published_date + \"\\nFormat: \" + book_format\n",
    "        price = result_divs[i].find(\"p\", class_=\"price\").text.strip()\n",
    "        result_obj.append({'img': imglink,  'description': desc, 'price':price})\n",
    "\n",
    "    print(json.dumps(result_obj))"
   ]
  },
  {
   "cell_type": "code",
   "execution_count": null,
   "metadata": {},
   "outputs": [],
   "source": [
    "if __name__==\"__main__\":\n",
    "    argparser = argparse.ArgumentParser()\n",
    "    argparser.add_argument('title',help = '', type=str, nargs='+')\n",
    "    args = argparser.parse_args()\n",
    "    title = \" \".join(args.title)\n",
    "    bookdepo_search(title)"
   ]
  },
  {
   "cell_type": "code",
   "execution_count": 1,
   "metadata": {},
   "outputs": [
    {
     "name": "stdout",
     "output_type": "stream",
     "text": [
      "init helpers\n",
      "Parsing File: bookdeposcript.ipynb\n",
      "file parsed and written to bookdeposcript.py.\n",
      "Depositing file in /Users/weihan/randomgits/chat-mvp1/chatscripts\n",
      "Copied File\n",
      "committing...\n",
      "committed to github\n"
     ]
    }
   ],
   "source": [
    "import sys #jupyter_\n",
    "sys.path.append(\"/Users/weihan/randomgits/chat-mvp1/chatapp\") #jupyter_\n",
    "from jupyhelper import jupyter_parser \n",
    "jp = jupyter_parser.jupyter_helpers()\n",
    "# jp.jupyter_run(\"gscripts.ipynb\", \"gscript.py\")\n",
    "# jp.jupyter_parse_notebook(\"gscripts.ipynb\", \"gscript3.py\")\n",
    "jp.jupyter_run(\"bookdeposcript.ipynb\", \"bookdeposcript.py\")"
   ]
  },
  {
   "cell_type": "code",
   "execution_count": null,
   "metadata": {},
   "outputs": [],
   "source": []
  }
 ],
 "metadata": {
  "kernelspec": {
   "display_name": "Python 3",
   "language": "python",
   "name": "python3"
  },
  "language_info": {
   "codemirror_mode": {
    "name": "ipython",
    "version": 3
   },
   "file_extension": ".py",
   "mimetype": "text/x-python",
   "name": "python",
   "nbconvert_exporter": "python",
   "pygments_lexer": "ipython3",
   "version": "3.6.2"
  }
 },
 "nbformat": 4,
 "nbformat_minor": 2
}
