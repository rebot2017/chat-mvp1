{
 "cells": [
  {
   "cell_type": "code",
   "execution_count": null,
   "metadata": {},
   "outputs": [],
   "source": [
    "from lxml import html  \n",
    "import requests\n",
    "from time import sleep\n",
    "import json\n",
    "import argparse\n",
    "from collections import OrderedDict\n",
    "from time import sleep\n"
   ]
  },
  {
   "cell_type": "code",
   "execution_count": null,
   "metadata": {},
   "outputs": [],
   "source": [
    "def get_ticker_data(ticker):\n",
    "    url = \"http://finance.yahoo.com/quote/%s?p=%s\"%(ticker,ticker)\n",
    "    response = requests.get(url)\n",
    "    print(\"Parsing %s\"%(url))\n",
    "    sleep(4)\n",
    "    parser = html.fromstring(response.text)\n",
    "    summary_table = parser.xpath('//div[contains(@data-test,\"summary-table\")]//tr')\n",
    "    summary_data = OrderedDict()\n",
    "    other_details_json_link = \"https://query2.finance.yahoo.com/v10/finance/quoteSummary/{0}?formatted=true&lang=en-US&region=US&modules=summaryProfile%2CfinancialData%2CrecommendationTrend%2CupgradeDowngradeHistory%2Cearnings%2CdefaultKeyStatistics%2CcalendarEvents&corsDomain=finance.yahoo.com\".format(ticker)\n",
    "    summary_json_response = requests.get(other_details_json_link)\n",
    "    json_loaded_summary =  json.loads(summary_json_response.text)\n",
    "    y_Target_Est = json_loaded_summary[\"quoteSummary\"][\"result\"][0][\"financialData\"][\"targetMeanPrice\"]['raw']\n",
    "    earnings_list = json_loaded_summary[\"quoteSummary\"][\"result\"][0][\"calendarEvents\"]['earnings']\n",
    "    eps = json_loaded_summary[\"quoteSummary\"][\"result\"][0][\"defaultKeyStatistics\"][\"trailingEps\"]['raw']\n",
    "    datelist = []\n",
    "    for i in earnings_list['earningsDate']:\n",
    "        datelist.append(i['fmt'])\n",
    "    earnings_date = ' to '.join(datelist)\n",
    "    for table_data in summary_table:\n",
    "        raw_table_key = table_data.xpath('.//td[@class=\"C(black)\"]//text()')\n",
    "        raw_table_value = table_data.xpath('.//td[contains(@class,\"Ta(end)\")]//text()')\n",
    "        table_key = ''.join(raw_table_key).strip()\n",
    "        table_value = ''.join(raw_table_value).strip()\n",
    "        summary_data.update({table_key:table_value})\n",
    "    summary_data.update({'1y Target Est':y_Target_Est,'EPS (TTM)':eps,'Earnings Date':earnings_date,'ticker':ticker,'url':url})\n",
    "    return summary_data\n"
   ]
  },
  {
   "cell_type": "code",
   "execution_count": null,
   "metadata": {},
   "outputs": [],
   "source": [
    "if __name__==\"__main__\":\n",
    "    argparser = argparse.ArgumentParser()\n",
    "    argparser.add_argument('ticker',help = '')\n",
    "    args = argparser.parse_args()\n",
    "    ticker = args.ticker\n",
    "    print(\"Fetching data for %s\"%(ticker))\n",
    "    scraped_data = get_ticker_data(ticker)\n",
    "    print(\"Writing data to output file\")\n",
    "    with open('%s-summary.json'%(ticker),'w') as fp:\n",
    "        json.dump(scraped_data,fp,indent = 4)"
   ]
  },
  {
   "cell_type": "code",
   "execution_count": 1,
   "metadata": {},
   "outputs": [
    {
     "name": "stdout",
     "output_type": "stream",
     "text": [
      "init helpers\n",
      "/home/user/chat-mvp1\n"
     ]
    }
   ],
   "source": [
    "from jupyhelper import jupyter_parser \n",
    "jp = jupyter_parser.jupyter_helpers()\n",
    "jp.jupyter_parse_notebook(\"yahoo_finance.ipynb\", \"yfscript.py\")"
   ]
  },
  {
   "cell_type": "code",
   "execution_count": null,
   "metadata": {},
   "outputs": [],
   "source": []
  }
 ],
 "metadata": {
  "kernelspec": {
   "display_name": "Python 3",
   "language": "python",
   "name": "python3"
  },
  "language_info": {
   "codemirror_mode": {
    "name": "ipython",
    "version": 3
   },
   "file_extension": ".py",
   "mimetype": "text/x-python",
   "name": "python",
   "nbconvert_exporter": "python",
   "pygments_lexer": "ipython3",
   "version": "3.5.2"
  }
 },
 "nbformat": 4,
 "nbformat_minor": 2
}
