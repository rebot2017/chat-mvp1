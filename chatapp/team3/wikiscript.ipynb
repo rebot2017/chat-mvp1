{
 "cells": [
  {
   "cell_type": "code",
   "execution_count": 13,
   "metadata": {},
   "outputs": [],
   "source": [
    "from bs4 import BeautifulSoup\n",
    "import requests\n",
    "import json\n",
    "import argparse"
   ]
  },
  {
   "cell_type": "code",
   "execution_count": null,
   "metadata": {},
   "outputs": [],
   "source": [
    "def wiki_search(query):\n",
    "    query = query.strip().replace(\" \", \"%20\")\n",
    "    search_request_url = \"https://en.wikipedia.org/w/api.php?action=query&list=search&srwhat=nearmatch&srsearch=%s&format=json&utf8=\"%(query)\n",
    "\n",
    "    search_result = requests.get(search_request_url)\n",
    "    json_result = json.loads(search_result.text)\n",
    "    result_list = json_result['query']['search']\n",
    "    if len(result_list) > 0:\n",
    "        title = result_list[0]['title']\n",
    "        article_request_url = \"https://en.wikipedia.org/wiki/%s\"%(title.replace(\" \", \"_\"))\n",
    "        result = requests.get(article_request_url)\n",
    "        soup = BeautifulSoup(result.text, 'html.parser')\n",
    "        first_paragraph = soup.find(attrs={'class': 'mw-parser-output'}).p.get_text()\n",
    "        result_object = {'title': title, 'description': first_paragraph}\n",
    "        print(json.dumps(result_object))"
   ]
  },
  {
   "cell_type": "code",
   "execution_count": 14,
   "metadata": {},
   "outputs": [
    {
     "name": "stderr",
     "output_type": "stream",
     "text": [
      "usage: ipykernel_launcher.py [-h] title [title ...]\n",
      "ipykernel_launcher.py: error: unrecognized arguments: -f\n"
     ]
    },
    {
     "ename": "SystemExit",
     "evalue": "2",
     "output_type": "error",
     "traceback": [
      "An exception has occurred, use %tb to see the full traceback.\n",
      "\u001b[0;31mSystemExit\u001b[0m\u001b[0;31m:\u001b[0m 2\n"
     ]
    },
    {
     "name": "stderr",
     "output_type": "stream",
     "text": [
      "/usr/local/lib/python3.6/site-packages/IPython/core/interactiveshell.py:2918: UserWarning: To exit: use 'exit', 'quit', or Ctrl-D.\n",
      "  warn(\"To exit: use 'exit', 'quit', or Ctrl-D.\", stacklevel=1)\n"
     ]
    }
   ],
   "source": [
    "if __name__==\"__main__\":\n",
    "    argparser = argparse.ArgumentParser()\n",
    "    argparser.add_argument('title',help = '', type=str, nargs='+')\n",
    "    args = argparser.parse_args()\n",
    "    title = \" \".join(args.title)\n",
    "    wiki_search(title)"
   ]
  },
  {
   "cell_type": "code",
   "execution_count": 12,
   "metadata": {},
   "outputs": [
    {
     "name": "stdout",
     "output_type": "stream",
     "text": [
      "init helpers\n",
      "Parsing File: wikiscript.ipynb\n",
      "file parsed and written to wikiscript.py.\n",
      "Depositing file in /Users/weihan/randomgits/chat-mvp1/chatscripts\n",
      "Copied File\n",
      "committing...\n",
      "committed to github\n"
     ]
    }
   ],
   "source": [
    "import sys #jupyter_\n",
    "sys.path.append(\"/Users/weihan/randomgits/chat-mvp1/chatapp\") #jupyter_\n",
    "from jupyhelper import jupyter_parser \n",
    "jp = jupyter_parser.jupyter_helpers()\n",
    "jp.jupyter_run(\"wikiscript.ipynb\", \"wikiscript.py\")"
   ]
  },
  {
   "cell_type": "code",
   "execution_count": null,
   "metadata": {},
   "outputs": [],
   "source": []
  }
 ],
 "metadata": {
  "kernelspec": {
   "display_name": "Python 3",
   "language": "python",
   "name": "python3"
  },
  "language_info": {
   "codemirror_mode": {
    "name": "ipython",
    "version": 3
   },
   "file_extension": ".py",
   "mimetype": "text/x-python",
   "name": "python",
   "nbconvert_exporter": "python",
   "pygments_lexer": "ipython3",
   "version": "3.6.2"
  }
 },
 "nbformat": 4,
 "nbformat_minor": 2
}
