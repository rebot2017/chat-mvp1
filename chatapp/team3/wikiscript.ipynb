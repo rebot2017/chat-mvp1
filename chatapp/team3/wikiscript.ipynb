{
 "cells": [
  {
   "cell_type": "code",
   "execution_count": 2,
   "metadata": {},
   "outputs": [],
   "source": [
    "from bs4 import BeautifulSoup\n",
    "import requests\n",
    "import json\n",
    "import argparse"
   ]
  },
  {
   "cell_type": "code",
   "execution_count": null,
   "metadata": {},
   "outputs": [],
   "source": [
    "def wiki_search(query):\n",
    "    query = query.strip().replace(\" \", \"%20\")\n",
    "    search_request_url = \"https://en.wikipedia.org/w/api.php?action=query&list=search&srwhat=nearmatch&srsearch=%s&format=json&utf8=\"%(query)\n",
    "\n",
    "    search_result = requests.get(search_request_url)\n",
    "    json_result = json.loads(search_result.text)\n",
    "    result_list = json_result['query']['search']\n",
    "    if len(result_list) > 0:\n",
    "        title = result_list[0]['title']\n",
    "        article_request_url = \"https://en.wikipedia.org/wiki/%s\"%(title.replace(\" \", \"_\"))\n",
    "        result = requests.get(article_request_url)\n",
    "        \n",
    "        soup = BeautifulSoup(result.text, 'html.parser')\n",
    "        first_paragraph = soup.find(attrs={'class': 'mw-parser-output'}).p.get_text()\n",
    "        result_object = {'title': title, 'description': first_paragraph, \"URL\": article_request_url}\n",
    "        return result_object\n",
    "    else:\n",
    "        result_object = {'title': 'No match found on Wikipedia!', 'description': \"\", 'URL':\"\"}\n",
    "        return result_object"
   ]
  },
  {
   "cell_type": "code",
   "execution_count": null,
   "metadata": {},
   "outputs": [],
   "source": [
    "if __name__==\"__main__\":\n",
    "    argparser = argparse.ArgumentParser()\n",
    "    argparser.add_argument('title',help = '', type=str, nargs='+')\n",
    "    args = argparser.parse_args()\n",
    "    title = \" \".join(args.title)\n",
    "    result = wiki_search(title)\n",
    "    print(\"Title: %s\"%(result['title']))\n",
    "    if 'description' in result:\n",
    "        print(\"Article: %s\"%(result['description']))\n",
    "    if 'URL' in result:    \n",
    "        print(\"Read more: %s\"%(result['URL']))"
   ]
  },
  {
   "cell_type": "code",
   "execution_count": null,
   "metadata": {},
   "outputs": [],
   "source": [
    "from jupyhelper import jupyter_parser \n",
    "jp = jupyter_parser.jupyter_helpers()\n",
    "jp.jupyter_run(\"wikiscript.ipynb\", \"wikiscript.py\")"
   ]
  },
  {
   "cell_type": "code",
   "execution_count": null,
   "metadata": {},
   "outputs": [],
   "source": []
  }
 ],
 "metadata": {
  "kernelspec": {
   "display_name": "Python 3",
   "language": "python",
   "name": "python3"
  },
  "language_info": {
   "codemirror_mode": {
    "name": "ipython",
    "version": 3
   },
   "file_extension": ".py",
   "mimetype": "text/x-python",
   "name": "python",
   "nbconvert_exporter": "python",
   "pygments_lexer": "ipython3",
   "version": "3.5.2"
  }
 },
 "nbformat": 4,
 "nbformat_minor": 2
}
